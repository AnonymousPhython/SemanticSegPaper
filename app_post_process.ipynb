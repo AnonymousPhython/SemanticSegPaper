{
 "cells": [
  {
   "cell_type": "code",
   "execution_count": null,
   "metadata": {},
   "outputs": [],
   "source": [
    "!nvidia-smi"
   ]
  },
  {
   "cell_type": "code",
   "execution_count": null,
   "metadata": {},
   "outputs": [],
   "source": [
    "import os\n",
    "HOME = os.getcwd()\n",
    "print(HOME)"
   ]
  },
  {
   "cell_type": "code",
   "execution_count": null,
   "metadata": {},
   "outputs": [],
   "source": [
    "from ultralytics import YOLO\n",
    "\n",
    "\n",
    "MODEL = \"Trained_Models/nano_segment_model.pt\"\n",
    "model = YOLO(MODEL) "
   ]
  },
  {
   "cell_type": "code",
   "execution_count": null,
   "metadata": {},
   "outputs": [],
   "source": [
    "# Type-3-S2 Test Image mainak-3_198_jpg.rf.9ab83c35318e7699f6fc0446239d395b.jpg\n",
    "\n",
    "contains_raised_axle(\"MASTERDATASET/test/images/mainak-3_198_jpg.rf.6d9bec74eb2c786bcb5fd2879ef90e64.jpg\",0.3)"
   ]
  }
 ],
 "metadata": {
  "language_info": {
   "name": "python"
  },
  "orig_nbformat": 4
 },
 "nbformat": 4,
 "nbformat_minor": 2
}
