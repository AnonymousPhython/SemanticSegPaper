{
 "cells": [
  {
   "cell_type": "code",
   "execution_count": 1,
   "metadata": {},
   "outputs": [
    {
     "name": "stdout",
     "output_type": "stream",
     "text": [
      "/home/manidhar/Desktop/AryanWork/yolov8-seg-training\n"
     ]
    }
   ],
   "source": [
    "import os\n",
    "HOME = os.getcwd()\n",
    "print(HOME)"
   ]
  },
  {
   "cell_type": "code",
   "execution_count": 2,
   "metadata": {},
   "outputs": [],
   "source": [
    "from ultralytics import YOLO\n",
    "\n",
    "\n",
    "MODEL = \"Trained Models/segmentation_trained_model.pt\"\n",
    "model = YOLO(MODEL) "
   ]
  },
  {
   "cell_type": "code",
   "execution_count": 3,
   "metadata": {},
   "outputs": [],
   "source": [
    "def get_file_name_of_image_without_extension(image_path):\n",
    "    import os\n",
    "    image_filename_without_ext = os.path.splitext(os.path.basename(image_path))[0]\n",
    "    return image_filename_without_ext"
   ]
  },
  {
   "cell_type": "code",
   "execution_count": 9,
   "metadata": {},
   "outputs": [],
   "source": [
    "\n",
    "def get_predicted_classes_data_from_model(filepath_of_image,predicted_classes_count):\n",
    "\n",
    "    result = model(filepath_of_image)\n",
    "\n",
    "    if len(result[0]) !=0:\n",
    "        predicted_classes = result[0].boxes.cls.cpu().numpy()\n",
    "        for classes in predicted_classes:\n",
    "            predicted_classes_count[int(classes)]+=1\n",
    "\n",
    "        \n",
    "    return predicted_classes_count\n"
   ]
  },
  {
   "cell_type": "code",
   "execution_count": 5,
   "metadata": {},
   "outputs": [],
   "source": [
    "def get_actual_classes_data_from_polygon(file_name_of_label,actual_classes_count):\n",
    "\n",
    "    \n",
    "    file = open(file_name_of_label, mode = 'r', encoding = 'utf-8-sig')\n",
    "    lines = file.readlines()\n",
    "    file.close()\n",
    "    \n",
    "\n",
    "    for line in lines:\n",
    "        line = line.split(' ')\n",
    "        line = [i.strip() for i in line]\n",
    "        class_of_annotation=int(line[0])\n",
    "        actual_classes_count[class_of_annotation]+=1\n",
    "\n",
    "    return actual_classes_count"
   ]
  },
  {
   "cell_type": "code",
   "execution_count": 6,
   "metadata": {},
   "outputs": [],
   "source": [
    "def get_filepath_of_image_and_label(image_path): # update test folder location\n",
    "    path_to_test_folder = \"FINALDATASET/test/\"\n",
    "    filename_without_extension = get_file_name_of_image_without_extension(image_path)\n",
    "    filename_of_image = HOME + \"/\" + path_to_test_folder + \"images/\" + filename_without_extension + \".jpg\"\n",
    "    filename_of_label = HOME + \"/\" + path_to_test_folder + \"labels/\" + filename_without_extension + \".txt\"\n",
    "    return filename_of_image,filename_of_label"
   ]
  },
  {
   "cell_type": "code",
   "execution_count": 7,
   "metadata": {},
   "outputs": [
    {
     "name": "stdout",
     "output_type": "stream",
     "text": [
      "{0: 'A-10-TRIDEM', 1: 'A-13', 2: 'AXLE', 3: 'TYPE 2-S2', 4: 'TYPE 3-S2', 5: 'TYPE-2', 6: 'TYPE-3', 7: 'UC'}\n"
     ]
    }
   ],
   "source": [
    "print(model.model.names)"
   ]
  },
  {
   "cell_type": "code",
   "execution_count": 10,
   "metadata": {},
   "outputs": [
    {
     "name": "stdout",
     "output_type": "stream",
     "text": [
      "[        137           5        4043         335           3         560         258          21]\n",
      "[        148           9        4144         347           0         587         268          25]\n"
     ]
    }
   ],
   "source": [
    "import glob\n",
    "import numpy as np\n",
    "\n",
    "classes = [0,1,2,3,4,5,6,7]\n",
    "\n",
    "actual_classes_count = np.zeros(len(classes))\n",
    "predicted_classes_count = np.zeros(len(classes))\n",
    "\n",
    "\n",
    "for images in glob.glob(HOME +'/FINALDATASET/test/images/*.jpg')[:]:\n",
    "    image_path,label_path = get_filepath_of_image_and_label(images)\n",
    "    get_actual_classes_data_from_polygon(label_path,actual_classes_count)\n",
    "    get_predicted_classes_data_from_model(image_path,predicted_classes_count)\n",
    "\n",
    "\n",
    "print(actual_classes_count)\n",
    "print(predicted_classes_count)\n",
    "\n"
   ]
  }
 ],
 "metadata": {
  "kernelspec": {
   "display_name": "Python 3",
   "language": "python",
   "name": "python3"
  },
  "language_info": {
   "codemirror_mode": {
    "name": "ipython",
    "version": 3
   },
   "file_extension": ".py",
   "mimetype": "text/x-python",
   "name": "python",
   "nbconvert_exporter": "python",
   "pygments_lexer": "ipython3",
   "version": "3.8.10"
  },
  "orig_nbformat": 4
 },
 "nbformat": 4,
 "nbformat_minor": 2
}
