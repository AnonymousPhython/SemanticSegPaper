{
 "cells": [
  {
   "cell_type": "code",
   "execution_count": null,
   "metadata": {},
   "outputs": [],
   "source": [
    "import os\n",
    "HOME = os.getcwd()\n",
    "print(HOME)"
   ]
  },
  {
   "cell_type": "code",
   "execution_count": null,
   "metadata": {},
   "outputs": [],
   "source": [
    "from ultralytics import YOLO\n",
    "\n",
    "\n",
    "MODEL = \"Trained_Models/nano_segment_model.pt\"\n",
    "model = YOLO(MODEL) "
   ]
  },
  {
   "cell_type": "code",
   "execution_count": null,
   "metadata": {},
   "outputs": [],
   "source": [
    "def get_file_name_of_image_without_extension(image_path):\n",
    "    import os\n",
    "    image_filename_without_ext = os.path.splitext(os.path.basename(image_path))[0]\n",
    "    return image_filename_without_ext"
   ]
  },
  {
   "cell_type": "code",
   "execution_count": null,
   "metadata": {},
   "outputs": [],
   "source": [
    "\n",
    "def get_predicted_mask_with_specific_classes(predicted_masks,predicted_classes,defined_classes):\n",
    "\n",
    "    side_length = 640\n",
    "    height = side_length\n",
    "    width = side_length\n",
    "    classes_available = False\n",
    "\n",
    "    import numpy\n",
    "    mask = numpy.zeros((height,width))\n",
    "\n",
    "    for i in range(len(predicted_classes)):\n",
    "        is_in_defined_classes = False\n",
    "\n",
    "        #checking is annoatation is present in list of defined classes\n",
    "        for annotation_class in defined_classes:\n",
    "            if(annotation_class == predicted_classes[i]):\n",
    "                is_in_defined_classes = True\n",
    "                classes_available = True\n",
    "        \n",
    "        if(is_in_defined_classes):\n",
    "            for row_index in range(len(predicted_masks[i])):\n",
    "                for col_index in range(len(predicted_masks[i][row_index])):\n",
    "                    if predicted_masks[i][row_index][col_index] == 1:\n",
    "                        mask[row_index][col_index] = 1\n",
    "\n",
    "\n",
    "    return mask,classes_available\n"
   ]
  },
  {
   "cell_type": "code",
   "execution_count": null,
   "metadata": {},
   "outputs": [],
   "source": [
    "\n",
    "def get_predicted_mask_from_model(filepath_of_image,defined_classes):\n",
    "\n",
    "    result = model(filepath_of_image)\n",
    "    predicted_masks = []\n",
    "    predicted_classes = []\n",
    "\n",
    "    if len(result[0]) !=0:\n",
    "        predicted_masks = result[0].masks.masks.cpu().numpy()\n",
    "        predicted_classes = result[0].boxes.cls.cpu().numpy()\n",
    "        \n",
    "    return get_predicted_mask_with_specific_classes(predicted_masks,predicted_classes,defined_classes)\n"
   ]
  },
  {
   "cell_type": "code",
   "execution_count": null,
   "metadata": {},
   "outputs": [],
   "source": [
    "def get_actual_mask_from_polygon(file_name_of_label,defined_classes):\n",
    "\n",
    "    import numpy\n",
    "    from PIL import Image, ImageDraw\n",
    "\n",
    "    side_length = 640 \n",
    "    width = side_length\n",
    "    height = side_length\n",
    "\n",
    "    img = Image.new('L', (width, height), 0)\n",
    "\n",
    "    file = open(file_name_of_label, mode = 'r', encoding = 'utf-8-sig')\n",
    "    lines = file.readlines()\n",
    "    file.close()\n",
    "    \n",
    "    classes_available = False\n",
    "\n",
    "    for line in lines:\n",
    "        line = line.split(' ')\n",
    "        line = [i.strip() for i in line]\n",
    "        class_of_annotation=int(line[0])\n",
    "        is_in_defined_classes = False\n",
    "\n",
    "        #checking is annoatation is present in list of defined classes\n",
    "        for annotation_class in defined_classes:\n",
    "            if(annotation_class == class_of_annotation):\n",
    "                is_in_defined_classes = True\n",
    "                classes_available = True\n",
    "\n",
    "        if(is_in_defined_classes):\n",
    "            polygon = []\n",
    "            for i in range(1,len(line)):\n",
    "                line[i]=float(line[i])*side_length\n",
    "                polygon.append(line[i])\n",
    "            ImageDraw.Draw(img).polygon(polygon, outline=1, fill=1) # creating 2D mask from segmentation labels\n",
    "\n",
    "    mask = numpy.array(img)\n",
    "\n",
    "    return mask,classes_available"
   ]
  },
  {
   "cell_type": "code",
   "execution_count": null,
   "metadata": {},
   "outputs": [],
   "source": [
    "def calculateIoU(gtMask, predMask):\n",
    "    # Calculate the true positives,\n",
    "    # false positives, and false negatives\n",
    "    tp = 0\n",
    "    fp = 0\n",
    "    fn = 0\n",
    "\n",
    "    for i in range(len(gtMask)):\n",
    "        for j in range(len(gtMask[0])):\n",
    "            if gtMask[i][j] == 1 and predMask[i][j] == 1:\n",
    "                tp += 1\n",
    "            elif gtMask[i][j] == 0 and predMask[i][j] == 1:\n",
    "                fp += 1\n",
    "            elif gtMask[i][j] == 1 and predMask[i][j] == 0:\n",
    "                fn += 1\n",
    "\n",
    "    # Calculate IoU\n",
    "    iou = tp / (tp + fp + fn)\n",
    "\n",
    "    return iou"
   ]
  },
  {
   "cell_type": "code",
   "execution_count": null,
   "metadata": {},
   "outputs": [],
   "source": [
    "def get_filepath_of_image_and_label(image_path): # update test folder location\n",
    "    path_to_test_folder = \"MASTERDATASET/test/\"\n",
    "    filename_without_extension = get_file_name_of_image_without_extension(image_path)\n",
    "    filename_of_image = HOME + \"/\" + path_to_test_folder + \"images/\" + filename_without_extension + \".jpg\"\n",
    "    filename_of_label = HOME + \"/\" + path_to_test_folder + \"labels/\" + filename_without_extension + \".txt\"\n",
    "    return filename_of_image,filename_of_label"
   ]
  },
  {
   "cell_type": "code",
   "execution_count": null,
   "metadata": {},
   "outputs": [],
   "source": [
    "def test_image_with_mask(mask,image_path):\n",
    "    \n",
    "    import cv2\n",
    "    img = cv2.imread(image_path) # 640 x 640 x 3\n",
    "    \n",
    "    for i in range(640):\n",
    "        for j in range(640):\n",
    "            if mask[i][j]==0:\n",
    "                img[i][j]=[0,0,0]\n",
    "                \n",
    "    cv2.imshow(\"img\",img)\n",
    "    cv2.waitKey(0)\n",
    "    cv2.destroyAllWindows()"
   ]
  },
  {
   "cell_type": "code",
   "execution_count": null,
   "metadata": {},
   "outputs": [],
   "source": [
    "def calculateIoUforimage(image_path,defined_classes):\n",
    "    \n",
    "    image_path,label_path = get_filepath_of_image_and_label(image_path)\n",
    "\n",
    "    actual_mask,actual_mask_available = get_actual_mask_from_polygon(label_path,defined_classes)\n",
    "    predicted_mask,predicted_mask_available = get_predicted_mask_from_model(image_path,defined_classes)\n",
    "\n",
    "    # test_image_with_mask(actual_mask,image_path)\n",
    "\n",
    "    if actual_mask_available or predicted_mask_available:\n",
    "        iou = calculateIoU(actual_mask,predicted_mask)\n",
    "        return iou,1\n",
    "    return 0,0"
   ]
  },
  {
   "cell_type": "code",
   "execution_count": null,
   "metadata": {},
   "outputs": [],
   "source": [
    "print(model.model.names)"
   ]
  },
  {
   "cell_type": "code",
   "execution_count": null,
   "metadata": {},
   "outputs": [],
   "source": [
    "\n",
    "def get_iou_threshold_value_for_given_class(defined_classes,iou_thresholds,path_to_dataset):\n",
    "    \n",
    "    import glob\n",
    "    import numpy as np\n",
    "\n",
    "    count_for_iou_thresholds = np.zeros(len(iou_thresholds)) \n",
    "\n",
    "    for image_path in glob.glob(HOME + path_to_dataset + '/test/images/*.jpg')[:]:\n",
    "        iou,cnt = calculateIoUforimage(image_path,defined_classes)\n",
    "        if cnt!=0:\n",
    "            for i in range(len(iou_thresholds)):\n",
    "                if iou>=iou_thresholds[i]:\n",
    "                    count_for_iou_thresholds[i]=count_for_iou_thresholds[i]+1\n",
    "\n",
    "    return count_for_iou_thresholds"
   ]
  },
  {
   "cell_type": "code",
   "execution_count": null,
   "metadata": {},
   "outputs": [],
   "source": [
    "def get_class_weight(actual_mask):\n",
    "    \n",
    "    class_weight = 0\n",
    "\n",
    "    for i in range(len(actual_mask)):\n",
    "        for j in range(len(actual_mask[i])):\n",
    "            if(actual_mask[i][j]==1):\n",
    "                class_weight+=1\n",
    "    \n",
    "    return class_weight"
   ]
  },
  {
   "cell_type": "code",
   "execution_count": null,
   "metadata": {},
   "outputs": [],
   "source": [
    "def calculateWeigthedIoUforimage(image_path,defined_classes):\n",
    "\n",
    "    import numpy as np\n",
    "\n",
    "    class_iou = np.zeros(len(defined_classes))\n",
    "    class_weights = np.zeros(len(defined_classes))\n",
    "\n",
    "    image_path,label_path = get_filepath_of_image_and_label(image_path)\n",
    "\n",
    "    for i in range(len(defined_classes)):\n",
    "        actual_mask,actual_mask_available = get_actual_mask_from_polygon(label_path,defined_classes[i])\n",
    "        predicted_mask,predicted_mask_available = get_predicted_mask_from_model(image_path,defined_classes[i])\n",
    "        if(actual_mask_available):\n",
    "            class_weights[i] = get_class_weight(actual_mask)\n",
    "        if actual_mask_available or predicted_mask_available:\n",
    "            class_iou[i] = calculateIoU(actual_mask,predicted_mask)\n",
    "\n",
    "    sum_of_class_weigths = 0\n",
    "    weighted_sum_of_class_weights = 0\n",
    "\n",
    "\n",
    "    for i in range(len(defined_classes)):\n",
    "        weighted_sum_of_class_weights += class_weights[i]*class_iou[i]\n",
    "        sum_of_class_weigths += class_weights[i]\n",
    "\n",
    "    weigthed_iou = weighted_sum_of_class_weights/sum_of_class_weigths\n",
    "\n",
    "    return weigthed_iou"
   ]
  },
  {
   "cell_type": "code",
   "execution_count": null,
   "metadata": {},
   "outputs": [],
   "source": [
    "\n",
    "def get_weighted_iou_threshold_value_for_given_class(defined_classes,iou_thresholds,path_to_dataset):\n",
    "    \n",
    "    import glob\n",
    "    import numpy as np\n",
    "\n",
    "    count_for_iou_thresholds = np.zeros(len(iou_thresholds)) \n",
    "\n",
    "    for image_path in glob.glob(HOME + path_to_dataset + '/test/images/*.jpg')[:]:\n",
    "        iou = calculateWeigthedIoUforimage(image_path,defined_classes)\n",
    "        for i in range(len(iou_thresholds)):\n",
    "            if iou>=iou_thresholds[i]:\n",
    "                count_for_iou_thresholds[i]=count_for_iou_thresholds[i]+1\n",
    "\n",
    "    return count_for_iou_thresholds"
   ]
  },
  {
   "cell_type": "code",
   "execution_count": null,
   "metadata": {},
   "outputs": [],
   "source": [
    "# calculation weighted_iou\n",
    "\n",
    "iou_thresholds = [0.00, 0.50, 0.55, 0.60, 0.65, 0.70, 0.75, .80, .85, .90]\n",
    "defined_classes  = [[0],[1],[2],[3],[4],[5],[6],[7]]\n",
    "path_to_dataset = '/MASTERDATASET'\n",
    "\n",
    "count_for_iou_thresholds = get_weighted_iou_threshold_value_for_given_class(defined_classes,iou_thresholds,path_to_dataset)\n",
    "print(count_for_iou_thresholds)\n"
   ]
  },
  {
   "cell_type": "code",
   "execution_count": null,
   "metadata": {},
   "outputs": [],
   "source": [
    "print(count_for_iou_thresholds)"
   ]
  },
  {
   "cell_type": "code",
   "execution_count": null,
   "metadata": {},
   "outputs": [],
   "source": [
    "# calculation global-accuracy and class-accuracy\n",
    "\n",
    "# iou thresholds : [0.00, 0.50, 0.55, 0.60, 0.65, 0.70, 0.75, .80, .85, .90]\n",
    "\n",
    "\n",
    "iou_thresholds = [0.00, 0.50, 0.55, 0.60, 0.65, 0.70, 0.75, .80, .85, .90]\n",
    "classes  = [[0],[1],[2],[3],[4],[5],[6],[7],[0,1,2,3,4,5,6,7]]\n",
    "overall_count_of_iou_thresholds = []\n",
    "path_to_dataset = '/MASTERDATASET'\n",
    "\n",
    "for defined_classes in classes:\n",
    "    count_for_iou_thresholds = get_iou_threshold_value_for_given_class(defined_classes,iou_thresholds,path_to_dataset)\n",
    "    overall_count_of_iou_thresholds.append(count_for_iou_thresholds)\n",
    "    print()\n",
    "    print(\"calculating for class: \", end=' ')\n",
    "    print(defined_classes)\n",
    "    print(count_for_iou_thresholds)\n",
    "    print()\n",
    "    "
   ]
  }
 ],
 "metadata": {
  "kernelspec": {
   "display_name": "Python 3",
   "language": "python",
   "name": "python3"
  },
  "language_info": {
   "codemirror_mode": {
    "name": "ipython",
    "version": 3
   },
   "file_extension": ".py",
   "mimetype": "text/x-python",
   "name": "python",
   "nbconvert_exporter": "python",
   "pygments_lexer": "ipython3",
   "version": "3.10.9"
  },
  "orig_nbformat": 4
 },
 "nbformat": 4,
 "nbformat_minor": 2
}
