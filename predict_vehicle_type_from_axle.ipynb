{
 "cells": [
  {
   "cell_type": "code",
   "execution_count": 1,
   "metadata": {},
   "outputs": [
    {
     "name": "stdout",
     "output_type": "stream",
     "text": [
      "Sat Aug 19 20:17:08 2023       \n",
      "+---------------------------------------------------------------------------------------+\n",
      "| NVIDIA-SMI 530.30.02              Driver Version: 530.30.02    CUDA Version: 12.1     |\n",
      "|-----------------------------------------+----------------------+----------------------+\n",
      "| GPU  Name                  Persistence-M| Bus-Id        Disp.A | Volatile Uncorr. ECC |\n",
      "| Fan  Temp  Perf            Pwr:Usage/Cap|         Memory-Usage | GPU-Util  Compute M. |\n",
      "|                                         |                      |               MIG M. |\n",
      "|=========================================+======================+======================|\n",
      "|   0  NVIDIA RTX A4000                On | 00000000:01:00.0 Off |                  Off |\n",
      "| 43%   62C    P2               42W / 140W|  13959MiB / 16376MiB |      0%      Default |\n",
      "|                                         |                      |                  N/A |\n",
      "+-----------------------------------------+----------------------+----------------------+\n",
      "                                                                                         \n",
      "+---------------------------------------------------------------------------------------+\n",
      "| Processes:                                                                            |\n",
      "|  GPU   GI   CI        PID   Type   Process name                            GPU Memory |\n",
      "|        ID   ID                                                             Usage      |\n",
      "|=======================================================================================|\n",
      "|    0   N/A  N/A      1314      G   /usr/lib/xorg/Xorg                            4MiB |\n",
      "|    0   N/A  N/A      1864      G   /usr/lib/xorg/Xorg                            4MiB |\n",
      "|    0   N/A  N/A    355973      C   /home/manidhar/anaconda3/bin/python        1766MiB |\n",
      "|    0   N/A  N/A    356027      C   /bin/python3                              12176MiB |\n",
      "+---------------------------------------------------------------------------------------+\n"
     ]
    }
   ],
   "source": [
    "!nvidia-smi"
   ]
  },
  {
   "cell_type": "code",
   "execution_count": 2,
   "metadata": {},
   "outputs": [
    {
     "name": "stdout",
     "output_type": "stream",
     "text": [
      "/home/manidhar/Desktop/AryanWork/yolov8-seg-training\n"
     ]
    }
   ],
   "source": [
    "import os\n",
    "HOME = os.getcwd()\n",
    "print(HOME)"
   ]
  },
  {
   "cell_type": "code",
   "execution_count": 3,
   "metadata": {},
   "outputs": [],
   "source": [
    "from ultralytics import YOLO\n",
    "\n",
    "\n",
    "MODEL = \"Trained_Models/nano_segment_model.pt\"\n",
    "model = YOLO(MODEL) "
   ]
  },
  {
   "cell_type": "code",
   "execution_count": 4,
   "metadata": {},
   "outputs": [],
   "source": [
    "def predict_raised_axle(axle_data):\n",
    "\n",
    "    import numpy as np\n",
    "\n",
    "    has_raised_axle = False\n",
    "\n",
    "    \n",
    "    np.sort(axle_data)\n",
    "\n",
    "    slopes = []\n",
    "\n",
    "    for i in range(1,len(axle_data)):\n",
    "        slopes.append((axle_data[0][0]-axle_data[i][0])/(axle_data[0][1]-axle_data[i][1]))\n",
    "\n",
    "    mean = np.mean(slopes)\n",
    "\n",
    "    print(slopes)\n",
    "\n",
    "    return has_raised_axle\n",
    "\n",
    "\n",
    "    "
   ]
  },
  {
   "cell_type": "code",
   "execution_count": 5,
   "metadata": {},
   "outputs": [],
   "source": [
    "# {0: 'A-10-S-TANDEM', 1: 'A-10-TRIDEM', 2: 'AXLE', 3: 'COMBINED', 4: 'TYPE-2', 5: 'TYPE-2-S2', 6: 'TYPE-3', 7: 'UC'}\n",
    "\n",
    "def contains_raised_axle(filepath_of_image):\n",
    "\n",
    "    result = model(filepath_of_image)\n",
    "    predicted_boxes = []\n",
    "    predicted_classes = []\n",
    "    axle_data = []\n",
    "\n",
    "    if len(result[0]) !=0:\n",
    "        predicted_boxes = result[0].boxes.xyxy.cpu().numpy()\n",
    "        predicted_classes= result[0].boxes.cls.cpu().numpy()\n",
    "\n",
    "    \n"
   ]
  }
 ],
 "metadata": {
  "kernelspec": {
   "display_name": "Python 3",
   "language": "python",
   "name": "python3"
  },
  "language_info": {
   "codemirror_mode": {
    "name": "ipython",
    "version": 3
   },
   "file_extension": ".py",
   "mimetype": "text/x-python",
   "name": "python",
   "nbconvert_exporter": "python",
   "pygments_lexer": "ipython3",
   "version": "3.8.10"
  },
  "orig_nbformat": 4
 },
 "nbformat": 4,
 "nbformat_minor": 2
}
